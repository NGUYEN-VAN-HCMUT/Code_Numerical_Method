{
  "nbformat": 4,
  "nbformat_minor": 0,
  "metadata": {
    "colab": {
      "name": "Choleski.ipynb",
      "provenance": [],
      "authorship_tag": "ABX9TyOcvtpmhKwYWFEiTsY44EDZ",
      "include_colab_link": true
    },
    "kernelspec": {
      "name": "python3",
      "display_name": "Python 3"
    }
  },
  "cells": [
    {
      "cell_type": "markdown",
      "metadata": {
        "id": "view-in-github",
        "colab_type": "text"
      },
      "source": [
        "<a href=\"https://colab.research.google.com/github/NGUYEN-VAN-HCMUT/Code_Numerical_Method/blob/master/Choleski.ipynb\" target=\"_parent\"><img src=\"https://colab.research.google.com/assets/colab-badge.svg\" alt=\"Open In Colab\"/></a>"
      ]
    },
    {
      "cell_type": "code",
      "metadata": {
        "id": "1HciPLSNYBFy"
      },
      "source": [
        "## module choleski\n",
        " # L = choleski(a)\n",
        " #  Choleski decomposition: [L][L]transpose = [a]\n",
        " #   x = choleskiSol(L,b)\n",
        " #  Solution phase of Choleski’s decomposition method\n",
        "## \n",
        "import numpy as np\n",
        "import math\n",
        "#import error \n",
        "\n",
        "def choleski(a):\n",
        "    n = len(a)\n",
        "    for k in range(n):\n",
        "        #try:\n",
        "         #   a[k,k] = math.sqrt(a[k,k]  \\\n",
        "          #         - np.dot(a[k,0:k],a[k,0:k]))\n",
        "        #except ValueError:\n",
        "         #   error.err('Matrix is not positive definite')\n",
        "        for i in range(k+1,n):\n",
        "            a[i,k] = (a[i,k] - np.dot(a[i,0:k],a[k,0:k]))/a[k,k]\n",
        "    for k in range(1,n): a[0:k,k] = 0.0\n",
        "    return a\n"
      ],
      "execution_count": 3,
      "outputs": []
    },
    {
      "cell_type": "code",
      "metadata": {
        "id": "udYrLNBx9vWT"
      },
      "source": [
        "def choleskiSol(L,b):\n",
        "    n = len(b)\n",
        "  # Solution of [L]{y} = {b}\n",
        "    for k in range(n):\n",
        "        b[k] = (b[k] - np.dot(L[k,0:k],b[0:k]))/L[k,k]\n",
        "  # Solution of [L_transpose]{x} = {y}\n",
        "    for k in range(n-1,-1,-1):\n",
        "        b[k] = (b[k] - np.dot(L[k+1:n,k],b[k+1:n]))/L[k,k]\n",
        "    return b"
      ],
      "execution_count": 4,
      "outputs": []
    },
    {
      "cell_type": "code",
      "metadata": {
        "colab": {
          "base_uri": "https://localhost:8080/",
          "height": 137
        },
        "id": "Ctl7GG7FA_vY",
        "outputId": "4ce37ce0-539a-422b-89b4-35dd42680b3a"
      },
      "source": [
        "a = np.array([[ 1.44, -0.36,  5.52,  0.0], \\\n",
        "              [-0.36, 10.33, -7.78,  0.0], \\\n",
        "              [ 5.52, -7.78, 28.40,  9.0], \\\n",
        "              [ 0.0,   0.0,   9.0,  61.0]])\n",
        "b = np.array([0.04, -2.15, 0.0, 0.88])\n",
        "aOrig = a.copy()\n",
        "L = choleski(a)\n",
        "x = choleskiSol(L,b)\n",
        "print(\"x =\",x)\n",
        "print('\\nCheck: A*x =\\n',np.dot(aOrig,x))\n",
        "input(\"\\nPress return to exit\")"
      ],
      "execution_count": 6,
      "outputs": [
        {
          "output_type": "stream",
          "text": [
            "x = [ 0.01661073 -0.02010266 -0.00030452  0.00023723]\n",
            "\n",
            "Check: A*x =\n",
            " [ 0.02947544 -0.21127116  0.24157649  0.01173005]\n",
            "\n",
            "Press return to exity\n"
          ],
          "name": "stdout"
        },
        {
          "output_type": "execute_result",
          "data": {
            "application/vnd.google.colaboratory.intrinsic+json": {
              "type": "string"
            },
            "text/plain": [
              "'y'"
            ]
          },
          "metadata": {
            "tags": []
          },
          "execution_count": 6
        }
      ]
    }
  ]
}