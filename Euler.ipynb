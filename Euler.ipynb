{
  "nbformat": 4,
  "nbformat_minor": 0,
  "metadata": {
    "colab": {
      "name": "Euler.ipynb",
      "provenance": [],
      "authorship_tag": "ABX9TyMD16+lhoZoiKHO1tqkQJXH",
      "include_colab_link": true
    },
    "kernelspec": {
      "name": "python3",
      "display_name": "Python 3"
    }
  },
  "cells": [
    {
      "cell_type": "markdown",
      "metadata": {
        "id": "view-in-github",
        "colab_type": "text"
      },
      "source": [
        "<a href=\"https://colab.research.google.com/github/NGUYEN-VAN-HCMUT/Code_Numerical_Method/blob/master/Euler.ipynb\" target=\"_parent\"><img src=\"https://colab.research.google.com/assets/colab-badge.svg\" alt=\"Open In Colab\"/></a>"
      ]
    },
    {
      "cell_type": "code",
      "metadata": {
        "id": "iOtf6BRXBLe2"
      },
      "source": [
        "\n",
        "## module euler\n",
        "# X,Y = integrate(F,x,y,xStop,h).\n",
        "#    Euler’s method for solving the\n",
        "#   initial value problem {y}’ = {F(x,{y})}, where\n",
        "#    {y} = {y[0],y[1],...y[n-1]}.\n",
        "#    x,y   = initial conditions\n",
        "#    xStop = terminal value of x\n",
        "#    h     = increment of x used in integration\n",
        "#    F     = user-supplied function that returns the\n",
        "#            array F(x,y) = {y’[0],y’[1],...,y’[n-1]}.\n",
        "##\n",
        "import numpy as np\n",
        "def integrate(F,x,y,xStop,h):\n",
        "    X = []\n",
        "    Y = []\n",
        "    X.append(x)\n",
        "    Y.append(y)\n",
        "    while x < xStop:\n",
        "        h = min(h,xStop - x)\n",
        "        y = y + h*F(x,y)\n",
        "        x=x+h\n",
        "        X.append(x)\n",
        "        Y.append(y)\n",
        "    return np.array(X),np.array(Y)\n"
      ],
      "execution_count": null,
      "outputs": []
    },
    {
      "cell_type": "markdown",
      "metadata": {
        "id": "aa_Ph2DIGrRO"
      },
      "source": [
        "Integrate the initial value problem\n",
        "y′′ =−0.1y′ −x y(0)=0 y′(0)=1\n",
        "from x = 0 to 2 with Euler’s method using h = 0.05. Plot the computed y together with the analytical solution,"
      ]
    },
    {
      "cell_type": "code",
      "metadata": {
        "colab": {
          "base_uri": "https://localhost:8080/",
          "height": 331
        },
        "id": "U_gWBu9LGsbB",
        "outputId": "20bedc12-394f-4118-b3cb-8a78b0dd02d2"
      },
      "source": [
        "import numpy as np\n",
        "import matplotlib.pyplot as plt\n",
        "def F(x,y):\n",
        "    F = np.zeros(2)\n",
        "    F[0] = y[1]\n",
        "    F[1] = -0.1*y[1] - x\n",
        "    return F\n",
        "x = 0.0 # Start of integration\n",
        "xStop = 2.0 # End of integration\n",
        "y = np.array([0.0, 1.0]) # Initial values of {y}\n",
        "h = 0.05 # Step size\n",
        "X,Y = integrate(F,x,y,xStop,h)\n",
        "yExact = 100.0*X - 5.0*X**2 + 990.0*(np.exp(-0.1*X) - 1.0)\n",
        "plt.plot(X,Y[:,0],'o',X,yExact,'-')\n",
        "plt.grid(True)\n",
        "plt.xlabel('x'); plt.ylabel('y')\n",
        "plt.legend(('Numerical','Exact'),loc=0)\n",
        "plt.show()\n",
        "input(\"\\nPress return to exit\")\n",
        "\n",
        "\n",
        "\n",
        "\n"
      ],
      "execution_count": null,
      "outputs": [
        {
          "output_type": "display_data",
          "data": {
            "image/png": "[encoded data removed]",
            "text/plain": [
              "<Figure size 432x288 with 1 Axes>"
            ]
          },
          "metadata": {
            "tags": [],
            "needs_background": "light"
          }
        },
        {
          "output_type": "stream",
          "text": [
            "\n",
            "Press return to exity\n"
          ],
          "name": "stdout"
        },
        {
          "output_type": "execute_result",
          "data": {
            "application/vnd.google.colaboratory.intrinsic+json": {
              "type": "string"
            },
            "text/plain": [
              "'y'"
            ]
          },
          "metadata": {
            "tags": []
          },
          "execution_count": 11
        }
      ]
    }
  ]
}