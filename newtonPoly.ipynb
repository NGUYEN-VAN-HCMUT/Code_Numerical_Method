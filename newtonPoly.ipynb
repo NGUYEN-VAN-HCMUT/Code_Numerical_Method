{
  "nbformat": 4,
  "nbformat_minor": 0,
  "metadata": {
    "colab": {
      "name": "newtonPoly.ipynb",
      "provenance": [],
      "authorship_tag": "ABX9TyNUMqf0zdZAXv2l9NfN6AN2",
      "include_colab_link": true
    },
    "kernelspec": {
      "name": "python3",
      "display_name": "Python 3"
    }
  },
  "cells": [
    {
      "cell_type": "markdown",
      "metadata": {
        "id": "view-in-github",
        "colab_type": "text"
      },
      "source": [
        "<a href=\"https://colab.research.google.com/github/NGUYEN-VAN-HCMUT/Code_Numerical_Method/blob/master/newtonPoly.ipynb\" target=\"_parent\"><img src=\"https://colab.research.google.com/assets/colab-badge.svg\" alt=\"Open In Colab\"/></a>"
      ]
    },
    {
      "cell_type": "code",
      "metadata": {
        "id": "mopyAfMvJdwg"
      },
      "source": [
        "## module newtonPoly\n",
        "   # p = evalPoly(a,xData,x).\n",
        "   # Evaluates Newton’s polynomial p at x. The coefficient\n",
        "   # vector {a} can be computed by the function ’coeffts’.\n",
        "   # a = coeffts(xData,yData).\n",
        "   # Computes the coefficients of Newton’s polynomial.\n",
        "##\n",
        "def evalPoly(a,xData,x):\n",
        "    n = len(xData) - 1  # Degree of polynomial\n",
        "    p = a[n]\n",
        "    for k in range(1,n+1):\n",
        "        p = a[n-k] + (x -xData[n-k])*p\n",
        "    return p\n",
        "def coeffts(xData,yData):\n",
        "    m = len(xData)  # Number of data points\n",
        "    a = yData.copy()\n",
        "    for k in range(1,m):\n",
        "        a[k:m] = (a[k:m] - a[k-1])/(xData[k:m] - xData[k-1])\n",
        "    return a"
      ],
      "execution_count": 2,
      "outputs": []
    },
    {
      "cell_type": "code",
      "metadata": {
        "colab": {
          "base_uri": "https://localhost:8080/",
          "height": 392
        },
        "id": "Ll8XiILhJJQ_",
        "outputId": "84abdb0e-2539-43b6-dfa1-28e42d7f93e8"
      },
      "source": [
        "import numpy as np\n",
        "import math\n",
        "\n",
        "xData = np.array([0.15,2.3,3.15,4.85,6.25,7.95])\n",
        "yData = np.array([4.79867,4.49013,4.2243,3.47313,2.66674,1.51909])\n",
        "a = coeffts(xData,yData)\n",
        "print(\" x    yInterp   yExact\")\n",
        "print(\"-----------------------\")\n",
        "for x in np.arange(0.0,8.1,0.5):\n",
        "    y = evalPoly(a,xData,x)\n",
        "    yExact = 4.8*math.cos(math.pi*x/20.0)\n",
        "    print('{:3.1f} {:9.5f} {:9.5f}'.format(x,y,yExact))\n",
        "input(\"\\nPress return to exit\")"
      ],
      "execution_count": 6,
      "outputs": [
        {
          "output_type": "stream",
          "text": [
            " x    yInterp   yExact\n",
            "-----------------------\n",
            "0.0   4.80003   4.80000\n",
            "0.5   4.78518   4.78520\n",
            "1.0   4.74088   4.74090\n",
            "1.5   4.66736   4.66738\n",
            "2.0   4.56507   4.56507\n",
            "2.5   4.43462   4.43462\n",
            "3.0   4.27683   4.27683\n",
            "3.5   4.09267   4.09267\n",
            "4.0   3.88327   3.88328\n",
            "4.5   3.64994   3.64995\n",
            "5.0   3.39411   3.39411\n",
            "5.5   3.11735   3.11735\n",
            "6.0   2.82137   2.82137\n",
            "6.5   2.50799   2.50799\n",
            "7.0   2.17915   2.17915\n",
            "7.5   1.83687   1.83688\n",
            "8.0   1.48329   1.48328\n",
            "\n",
            "Press return to exity\n"
          ],
          "name": "stdout"
        },
        {
          "output_type": "execute_result",
          "data": {
            "application/vnd.google.colaboratory.intrinsic+json": {
              "type": "string"
            },
            "text/plain": [
              "'y'"
            ]
          },
          "metadata": {
            "tags": []
          },
          "execution_count": 6
        }
      ]
    },
    {
      "cell_type": "code",
      "metadata": {
        "colab": {
          "base_uri": "https://localhost:8080/",
          "height": 375
        },
        "id": "7i3Hyo9iJywT",
        "outputId": "73f76461-a847-4767-d07f-f0ea597c5ce5"
      },
      "source": [
        "\n"
      ],
      "execution_count": 5,
      "outputs": [
        {
          "output_type": "stream",
          "text": [
            "-----------------------\n",
            "0.0   4.80003   4.80000\n",
            "0.5   4.78518   4.78520\n",
            "1.0   4.74088   4.74090\n",
            "1.5   4.66736   4.66738\n",
            "2.0   4.56507   4.56507\n",
            "2.5   4.43462   4.43462\n",
            "3.0   4.27683   4.27683\n",
            "3.5   4.09267   4.09267\n",
            "4.0   3.88327   3.88328\n",
            "4.5   3.64994   3.64995\n",
            "5.0   3.39411   3.39411\n",
            "5.5   3.11735   3.11735\n",
            "6.0   2.82137   2.82137\n",
            "6.5   2.50799   2.50799\n",
            "7.0   2.17915   2.17915\n",
            "7.5   1.83687   1.83688\n",
            "8.0   1.48329   1.48328\n",
            "\n",
            "Press return to exity\n"
          ],
          "name": "stdout"
        },
        {
          "output_type": "execute_result",
          "data": {
            "application/vnd.google.colaboratory.intrinsic+json": {
              "type": "string"
            },
            "text/plain": [
              "'y'"
            ]
          },
          "metadata": {
            "tags": []
          },
          "execution_count": 5
        }
      ]
    }
  ]
}