{
  "nbformat": 4,
  "nbformat_minor": 0,
  "metadata": {
    "colab": {
      "name": "Trapezoid.ipynb",
      "provenance": [],
      "authorship_tag": "ABX9TyMpW9ixO2BsM/uxW6eHrMnV",
      "include_colab_link": true
    },
    "kernelspec": {
      "name": "python3",
      "display_name": "Python 3"
    }
  },
  "cells": [
    {
      "cell_type": "markdown",
      "metadata": {
        "id": "view-in-github",
        "colab_type": "text"
      },
      "source": [
        "<a href=\"https://colab.research.google.com/github/NGUYEN-VAN-HCMUT/Code_Numerical_Method/blob/master/Trapezoid.ipynb\" target=\"_parent\"><img src=\"https://colab.research.google.com/assets/colab-badge.svg\" alt=\"Open In Colab\"/></a>"
      ]
    },
    {
      "cell_type": "code",
      "metadata": {
        "id": "OhBkLTq6g_zA"
      },
      "source": [
        "## module trapezoid\n",
        "# Inew = trapezoid(f,a,b,Iold,k).\n",
        " #  Recursive trapezoidal rule:\n",
        " #  old = Integral of f(x) from x = a to b computed by\n",
        " #  trapezoidal rule with 2ˆ(k-1) panels.\n",
        " #  Inew = Same integral computed with 2ˆk panels.\n",
        "##\n",
        "def trapezoid(f,a,b,Iold,k):\n",
        "    if k == 1:Inew = (f(a) + f(b))*(b - a)/2.0\n",
        "    else:\n",
        "        n = 2**(k -2 )\n",
        "        h = (b - a)/n\n",
        "        x = a + h/2.0\n",
        "        sum = 0.0\n",
        "        for i in range(n): \n",
        "            sum = sum + f(x) \n",
        "            x=x+h\n",
        "# Number of new points\n",
        "# Spacing of new points\n",
        "        Inew = (Iold + h*sum)/2.0\n",
        "    return Inew"
      ],
      "execution_count": 1,
      "outputs": []
    },
    {
      "cell_type": "markdown",
      "metadata": {
        "id": "MsxCx3Xa_G-_"
      },
      "source": [
        "Use the recursive trapezoidal rule to evaluate $\\int_0^{\\pi} \\sqrt{x} \\cos x d x$ to six decimal places. How many panels are needed to achieve this result?"
      ]
    },
    {
      "cell_type": "code",
      "metadata": {
        "colab": {
          "base_uri": "https://localhost:8080/",
          "height": 103
        },
        "id": "V7Mid8rJ-1Qu",
        "outputId": "c6893b8d-69ab-45f7-b2c0-4fb651088500"
      },
      "source": [
        "import math\n",
        "\n",
        "def f(x): return math.sqrt(x)*math.cos(x)\n",
        "Iold = 0.0\n",
        "for k in range(1,21):\n",
        "    Inew = trapezoid(f,0.0,math.pi,Iold,k)\n",
        "    if (k > 1) and (abs(Inew - Iold)) < 1.0e-6: break\n",
        "    Iold = Inew\n",
        "print(\"Integral =\",Inew)\n",
        "print(\"nPanels =\",2**(k-1))\n",
        "input(\"\\nPress return to exit\")"
      ],
      "execution_count": 2,
      "outputs": [
        {
          "output_type": "stream",
          "text": [
            "Integral = -0.8948316648532865\n",
            "nPanels = 32768\n",
            "\n",
            "Press return to exity\n"
          ],
          "name": "stdout"
        },
        {
          "output_type": "execute_result",
          "data": {
            "application/vnd.google.colaboratory.intrinsic+json": {
              "type": "string"
            },
            "text/plain": [
              "'y'"
            ]
          },
          "metadata": {
            "tags": []
          },
          "execution_count": 2
        }
      ]
    }
  ]
}