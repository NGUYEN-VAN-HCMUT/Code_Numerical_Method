{
  "nbformat": 4,
  "nbformat_minor": 0,
  "metadata": {
    "colab": {
      "name": "Condition_number.ipynb",
      "provenance": [],
      "authorship_tag": "ABX9TyNOXcNRDdilHAsRYVf59F4L",
      "include_colab_link": true
    },
    "kernelspec": {
      "name": "python3",
      "display_name": "Python 3"
    }
  },
  "cells": [
    {
      "cell_type": "markdown",
      "metadata": {
        "id": "view-in-github",
        "colab_type": "text"
      },
      "source": [
        "<a href=\"https://colab.research.google.com/github/NGUYEN-VAN-HCMUT/Code_Numerical_Method/blob/master/Condition_number.ipynb\" target=\"_parent\"><img src=\"https://colab.research.google.com/assets/colab-badge.svg\" alt=\"Open In Colab\"/></a>"
      ]
    },
    {
      "cell_type": "markdown",
      "metadata": {
        "id": "cF0iga3kGM81",
        "colab_type": "text"
      },
      "source": [
        "Condition Number"
      ]
    },
    {
      "cell_type": "code",
      "metadata": {
        "id": "eVD0q9NnGexu",
        "colab_type": "code",
        "colab": {}
      },
      "source": [
        "from scipy import linalg as la\n",
        "from scipy import optimize\n",
        "import sympy\n",
        "sympy.init_printing()\n",
        "import numpy as np\n",
        "import matplotlib.pyplot as plt\n",
        "from __future__ import division"
      ],
      "execution_count": 2,
      "outputs": []
    },
    {
      "cell_type": "code",
      "metadata": {
        "id": "VJ78yRb-GPE3",
        "colab_type": "code",
        "colab": {
          "base_uri": "https://localhost:8080/",
          "height": 80
        },
        "outputId": "d4252a12-7bcb-4c8d-cf61-40af965a8f3c"
      },
      "source": [
        "p = sympy.symbols(\"p\", positive=True)\n",
        "A = sympy.Matrix([[1, sympy.sqrt(p)], [1, 1/sympy.sqrt(p)]])\n",
        "b = sympy.Matrix([1, 2])\n",
        "x = A.solve(b)\n",
        "x"
      ],
      "execution_count": 3,
      "outputs": [
        {
          "output_type": "execute_result",
          "data": {
            "text/latex": "$$\\left[\\begin{matrix}- \\frac{2 \\sqrt{p}}{- \\sqrt{p} + \\frac{1}{\\sqrt{p}}} + \\frac{1}{\\sqrt{p} \\left(- \\sqrt{p} + \\frac{1}{\\sqrt{p}}\\right)}\\\\\\frac{1}{- \\sqrt{p} + \\frac{1}{\\sqrt{p}}}\\end{matrix}\\right]$$",
            "text/plain": [
              "⎡    2⋅√p           1      ⎤\n",
              "⎢- ──────── + ─────────────⎥\n",
              "⎢        1       ⎛      1 ⎞⎥\n",
              "⎢  -√p + ──   √p⋅⎜-√p + ──⎟⎥\n",
              "⎢        √p      ⎝      √p⎠⎥\n",
              "⎢                          ⎥\n",
              "⎢            1             ⎥\n",
              "⎢         ────────         ⎥\n",
              "⎢               1          ⎥\n",
              "⎢         -√p + ──         ⎥\n",
              "⎣               √p         ⎦"
            ]
          },
          "metadata": {
            "tags": []
          },
          "execution_count": 3
        }
      ]
    },
    {
      "cell_type": "code",
      "metadata": {
        "id": "eU2I2dnwGZx9",
        "colab_type": "code",
        "colab": {}
      },
      "source": [
        "# Symbolic problem specification\n",
        "p = sympy.symbols(\"p\", positive=True)\n",
        "A = sympy.Matrix([[1, sympy.sqrt(p)], [1, 1/sympy.sqrt(p)]])\n",
        "b = sympy.Matrix([1, 2])"
      ],
      "execution_count": 4,
      "outputs": []
    },
    {
      "cell_type": "code",
      "metadata": {
        "id": "j_vRiosBGkaI",
        "colab_type": "code",
        "colab": {
          "base_uri": "https://localhost:8080/",
          "height": 335
        },
        "outputId": "e894b395-e14c-4aa6-f912-97e0169b7f2f"
      },
      "source": [
        "# Solve symbolically\n",
        "x_sym_sol = A.solve(b)\n",
        "Acond = A.condition_number().simplify() \n",
        "\n",
        "# Numerical problem specification\n",
        "AA = lambda p: np.array([[1, np.sqrt(p)], [1, 1/np.sqrt(p)]])\n",
        "bb = np.array([1, 2])\n",
        "x_num_sol = lambda p: np.linalg.solve(AA(p), bb)\n",
        "\n",
        "# Graph the difference between the symbolic (exact) and numerical results.\n",
        "fig, axes = plt.subplots(1, 2, figsize=(12, 4)) \n",
        "p_vec = np.linspace(0.9, 1.1, 200)\n",
        "\n",
        "for n in range(2):\n",
        "    x_sym = np.array([x_sym_sol[n].subs(p, pp).evalf() for pp in p_vec])\n",
        "    x_num = np.array([x_num_sol(pp)[n] for pp in p_vec])\n",
        "    axes[0].plot(p_vec, (x_num - x_sym)/x_sym, 'k')\n",
        "axes[0].set_title(\"Error in solution\\n(symbolic - numerical)\")\n",
        "axes[0].set_xlabel(r'$x$', fontsize=18) \n",
        "    \n",
        "axes[1].plot(p_vec, [Acond.subs(p, pp).evalf() for pp in p_vec])\n",
        "axes[1].set_title(\"Condition number\")\n",
        "axes[1].set_xlabel(r'$x$', fontsize=18)"
      ],
      "execution_count": 6,
      "outputs": [
        {
          "output_type": "execute_result",
          "data": {
            "text/plain": [
              "Text(0.5, 0, '$x$')"
            ]
          },
          "metadata": {
            "tags": []
          },
          "execution_count": 6
        },
        {
          "output_type": "display_data",
          "data": {
            "image/png": "[encoded data removed]",
            "text/plain": [
              "<Figure size 864x288 with 2 Axes>"
            ]
          },
          "metadata": {
            "tags": [],
            "needs_background": "light"
          }
        }
      ]
    }
  ]
}