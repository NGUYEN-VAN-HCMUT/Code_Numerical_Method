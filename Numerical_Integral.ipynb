{
  "nbformat": 4,
  "nbformat_minor": 0,
  "metadata": {
    "colab": {
      "name": "Numerical_Integral.ipynb",
      "provenance": [],
      "authorship_tag": "ABX9TyNzrSpkLkQxWded2OZ1SkwX",
      "include_colab_link": true
    },
    "kernelspec": {
      "name": "python3",
      "display_name": "Python 3"
    }
  },
  "cells": [
    {
      "cell_type": "markdown",
      "metadata": {
        "id": "view-in-github",
        "colab_type": "text"
      },
      "source": [
        "<a href=\"https://colab.research.google.com/github/NGUYEN-VAN-HCMUT/Code_Numerical_Method/blob/master/Numerical_Integral.ipynb\" target=\"_parent\"><img src=\"https://colab.research.google.com/assets/colab-badge.svg\" alt=\"Open In Colab\"/></a>"
      ]
    },
    {
      "cell_type": "markdown",
      "metadata": {
        "id": "_xaPfEAe0gfO",
        "colab_type": "text"
      },
      "source": [
        "Numerical Integral"
      ]
    },
    {
      "cell_type": "code",
      "metadata": {
        "id": "ykd6SNH_0oGy",
        "colab_type": "code",
        "colab": {}
      },
      "source": [
        " import numpy as np\n",
        " import matplotlib.pyplot as plt \n",
        "from scipy import integrate\n",
        "import sympy"
      ],
      "execution_count": 1,
      "outputs": []
    },
    {
      "cell_type": "code",
      "metadata": {
        "id": "vGM1WnaJ0zji",
        "colab_type": "code",
        "colab": {}
      },
      "source": [
        "sympy.init_printing()"
      ],
      "execution_count": 2,
      "outputs": []
    },
    {
      "cell_type": "code",
      "metadata": {
        "id": "YOmbI6kW04LE",
        "colab_type": "code",
        "colab": {}
      },
      "source": [
        "a, b, X = sympy.symbols(\"a, b, x\") \n",
        "f = sympy.Function(\"f\")\n"
      ],
      "execution_count": 5,
      "outputs": []
    },
    {
      "cell_type": "code",
      "metadata": {
        "id": "4tJQfPHw1CfW",
        "colab_type": "code",
        "colab": {}
      },
      "source": [
        "x = a, (a+b)/2, b # for Simpson's rule\n",
        "w = [sympy.symbols(\"w_%d\" % i) for i in range(len(x))]"
      ],
      "execution_count": 6,
      "outputs": []
    },
    {
      "cell_type": "code",
      "metadata": {
        "id": "avRjx0vU1NpT",
        "colab_type": "code",
        "colab": {
          "base_uri": "https://localhost:8080/",
          "height": 38
        },
        "outputId": "83f00629-cf7d-4c06-a3fd-99f798ee6987"
      },
      "source": [
        " q_rule = sum([w[i] * f(x[i]) for i in range(len(x))])\n",
        "q_rule"
      ],
      "execution_count": 7,
      "outputs": [
        {
          "output_type": "execute_result",
          "data": {
            "image/png": "[encoded data removed]",
            "text/latex": "$$w_{0} f{\\left (a \\right )} + w_{1} f{\\left (\\frac{a}{2} + \\frac{b}{2} \\right )} + w_{2} f{\\left (b \\right )}$$",
            "text/plain": [
              "              ⎛a   b⎞          \n",
              "w₀⋅f(a) + w₁⋅f⎜─ + ─⎟ + w₂⋅f(b)\n",
              "              ⎝2   2⎠          "
            ]
          },
          "metadata": {
            "tags": []
          },
          "execution_count": 7
        }
      ]
    },
    {
      "cell_type": "code",
      "metadata": {
        "id": "4K3Zcv8d2pFN",
        "colab_type": "code",
        "colab": {
          "base_uri": "https://localhost:8080/",
          "height": 38
        },
        "outputId": "a3e6be06-a92a-44aa-f9b3-ece73f426093"
      },
      "source": [
        "phi = [sympy.Lambda(X, X**n) for n in range(len(x))] \n",
        "phi"
      ],
      "execution_count": 9,
      "outputs": [
        {
          "output_type": "execute_result",
          "data": {
            "image/png": "[encoded data removed]",
            "text/latex": "$$\\left [ \\left( x \\mapsto 1 \\right), \\quad \\left( x \\mapsto x \\right), \\quad \\left( x \\mapsto x^{2} \\right)\\right ]$$",
            "text/plain": [
              "⎡                   2⎤\n",
              "⎣x ↦ 1, x ↦ x, x ↦ x ⎦"
            ]
          },
          "metadata": {
            "tags": []
          },
          "execution_count": 9
        }
      ]
    },
    {
      "cell_type": "code",
      "metadata": {
        "id": "5xRyVIPw2_UP",
        "colab_type": "code",
        "colab": {
          "base_uri": "https://localhost:8080/",
          "height": 47
        },
        "outputId": "14ba6f36-d13e-4424-c6c1-20414afbc183"
      },
      "source": [
        "eqs = [q_rule.subs(f, phi[n]) - sympy.integrate(phi[n](X), (X, a, b))\n",
        "for n in range(len(phi))]\n",
        "eqs"
      ],
      "execution_count": 10,
      "outputs": [
        {
          "output_type": "execute_result",
          "data": {
            "image/png": "[encoded data removed]",
            "text/latex": "$$\\left [ a - b + w_{0} + w_{1} + w_{2}, \\quad \\frac{a^{2}}{2} + a w_{0} - \\frac{b^{2}}{2} + b w_{2} + w_{1} \\left(\\frac{a}{2} + \\frac{b}{2}\\right), \\quad \\frac{a^{3}}{3} + a^{2} w_{0} - \\frac{b^{3}}{3} + b^{2} w_{2} + w_{1} \\left(\\frac{a}{2} + \\frac{b}{2}\\right)^{2}\\right ]$$",
            "text/plain": [
              "⎡                       2           2                       3            3    \n",
              "⎢                      a           b              ⎛a   b⎞  a     2      b     \n",
              "⎢a - b + w₀ + w₁ + w₂, ── + a⋅w₀ - ── + b⋅w₂ + w₁⋅⎜─ + ─⎟, ── + a ⋅w₀ - ── + b\n",
              "⎣                      2           2              ⎝2   2⎠  3            3     \n",
              "\n",
              "                 2⎤\n",
              "2         ⎛a   b⎞ ⎥\n",
              " ⋅w₂ + w₁⋅⎜─ + ─⎟ ⎥\n",
              "          ⎝2   2⎠ ⎦"
            ]
          },
          "metadata": {
            "tags": []
          },
          "execution_count": 10
        }
      ]
    },
    {
      "cell_type": "code",
      "metadata": {
        "id": "j0x0E5LA3GVo",
        "colab_type": "code",
        "colab": {
          "base_uri": "https://localhost:8080/",
          "height": 38
        },
        "outputId": "5b5c6d21-c5e8-4336-b9e2-623f42ce2925"
      },
      "source": [
        "w_sol = sympy.solve(eqs, w) \n",
        "w_sol"
      ],
      "execution_count": 12,
      "outputs": [
        {
          "output_type": "execute_result",
          "data": {
            "image/png": "[encoded data removed]",
            "text/latex": "$$\\left \\{ w_{0} : - \\frac{a}{6} + \\frac{b}{6}, \\quad w_{1} : - \\frac{2 a}{3} + \\frac{2 b}{3}, \\quad w_{2} : - \\frac{a}{6} + \\frac{b}{6}\\right \\}$$",
            "text/plain": [
              "⎧      a   b        2⋅a   2⋅b        a   b⎫\n",
              "⎨w₀: - ─ + ─, w₁: - ─── + ───, w₂: - ─ + ─⎬\n",
              "⎩      6   6         3     3         6   6⎭"
            ]
          },
          "metadata": {
            "tags": []
          },
          "execution_count": 12
        }
      ]
    },
    {
      "cell_type": "code",
      "metadata": {
        "id": "iaScEJE83KHn",
        "colab_type": "code",
        "colab": {
          "base_uri": "https://localhost:8080/",
          "height": 38
        },
        "outputId": "0ce011a9-a39a-4ae7-bb95-d9425f7c2745"
      },
      "source": [
        "q_rule.subs(w_sol).simplify()"
      ],
      "execution_count": 13,
      "outputs": [
        {
          "output_type": "execute_result",
          "data": {
            "image/png": "[encoded data removed]",
            "text/latex": "$$- \\frac{1}{6} \\left(a - b\\right) \\left(f{\\left (a \\right )} + f{\\left (b \\right )} + 4 f{\\left (\\frac{a}{2} + \\frac{b}{2} \\right )}\\right)$$",
            "text/plain": [
              "         ⎛                 ⎛a   b⎞⎞ \n",
              "-(a - b)⋅⎜f(a) + f(b) + 4⋅f⎜─ + ─⎟⎟ \n",
              "         ⎝                 ⎝2   2⎠⎠ \n",
              "────────────────────────────────────\n",
              "                 6                  "
            ]
          },
          "metadata": {
            "tags": []
          },
          "execution_count": 13
        }
      ]
    },
    {
      "cell_type": "markdown",
      "metadata": {
        "id": "oP0harjl3p08",
        "colab_type": "text"
      },
      "source": [
        "Example: Evaluate $\\int_{-1}^1 e^{-x^2} dx$"
      ]
    },
    {
      "cell_type": "code",
      "metadata": {
        "id": "ZjI4Yiec37Ap",
        "colab_type": "code",
        "colab": {
          "base_uri": "https://localhost:8080/",
          "height": 38
        },
        "outputId": "d4a6555b-da7e-4e67-dbc6-ae22752f6688"
      },
      "source": [
        "def f(x):\n",
        "      return np.exp(-x**2)\n",
        "val, err = integrate.quad(f, -1, 1)\n",
        "val\n",
        "err "
      ],
      "execution_count": 18,
      "outputs": [
        {
          "output_type": "execute_result",
          "data": {
            "image/png": "[encoded data removed]",
            "text/latex": "$$1.6582826951881447e-14$$",
            "text/plain": [
              "1.6582826951881447e-14"
            ]
          },
          "metadata": {
            "tags": []
          },
          "execution_count": 18
        }
      ]
    },
    {
      "cell_type": "markdown",
      "metadata": {
        "id": "0c0Q5H6CHncZ",
        "colab_type": "text"
      },
      "source": [
        ""
      ]
    },
    {
      "cell_type": "code",
      "metadata": {
        "id": "i05DkoBNHoCn",
        "colab_type": "code",
        "colab": {
          "base_uri": "https://localhost:8080/",
          "height": 250
        },
        "outputId": "c15dcbdf-b897-4482-d17e-c117dc6e06b4"
      },
      "source": [
        "f = lambda x: np.sqrt(x) \n",
        "a, b = 0, 2\n",
        "x = np.linspace(a, b, 25) \n",
        "y = f(x)\n",
        "fig, ax = plt.subplots(figsize=(8, 3)) \n",
        "ax.plot(x, y, 'bo')\n",
        "xx = np.linspace(a, b, 500)\n",
        "ax.plot(xx, f(xx), 'b-')\n",
        "ax.fill_between(xx, f(xx), color='green', alpha=0.5) \n",
        "ax.set_xlabel(r\"$x$\", fontsize=18)\n",
        "ax.set_ylabel(r\"$f(x)$\", fontsize=18)"
      ],
      "execution_count": 19,
      "outputs": [
        {
          "output_type": "execute_result",
          "data": {
            "text/plain": [
              "Text(0, 0.5, '$f(x)$')"
            ]
          },
          "metadata": {
            "tags": []
          },
          "execution_count": 19
        },
        {
          "output_type": "display_data",
          "data": {
            "image/png": "[encoded data removed]",
            "text/plain": [
              "<Figure size 576x216 with 1 Axes>"
            ]
          },
          "metadata": {
            "tags": [],
            "needs_background": "light"
          }
        }
      ]
    },
    {
      "cell_type": "code",
      "metadata": {
        "id": "8yVEYZ49H7rF",
        "colab_type": "code",
        "colab": {
          "base_uri": "https://localhost:8080/",
          "height": 37
        },
        "outputId": "0e4d3807-733c-4874-ef8b-a6d6f76373ee"
      },
      "source": [
        "val_trapz = integrate.trapz(y, x) \n",
        "val_trapz"
      ],
      "execution_count": 20,
      "outputs": [
        {
          "output_type": "execute_result",
          "data": {
            "image/png": "[encoded data removed]",
            "text/latex": "$$1.8808217160508505$$",
            "text/plain": [
              "1.8808217160508505"
            ]
          },
          "metadata": {
            "tags": []
          },
          "execution_count": 20
        }
      ]
    },
    {
      "cell_type": "code",
      "metadata": {
        "id": "3yR1TsdoIjC9",
        "colab_type": "code",
        "colab": {
          "base_uri": "https://localhost:8080/",
          "height": 37
        },
        "outputId": "ba946bac-6f79-460a-bdda-8263474edbdf"
      },
      "source": [
        "val_simps = integrate.simps(y, x) \n",
        "val_simps"
      ],
      "execution_count": 21,
      "outputs": [
        {
          "output_type": "execute_result",
          "data": {
            "image/png": "[encoded data removed]",
            "text/latex": "$$1.883665102448715$$",
            "text/plain": [
              "1.883665102448715"
            ]
          },
          "metadata": {
            "tags": []
          },
          "execution_count": 21
        }
      ]
    },
    {
      "cell_type": "code",
      "metadata": {
        "id": "AOPyO9XHMH36",
        "colab_type": "code",
        "colab": {
          "base_uri": "https://localhost:8080/",
          "height": 37
        },
        "outputId": "6c77c8f0-12a0-4418-db39-69ae64fd6efb"
      },
      "source": [
        "val_exact = 2.0/3.0 * (b-a)**(3.0/2.0) \n",
        "val_exact\n",
        "val_exact - val_trapz\n",
        "val_exact - val_simps"
      ],
      "execution_count": 22,
      "outputs": [
        {
          "output_type": "execute_result",
          "data": {
            "image/png": "[encoded data removed]",
            "text/latex": "$$0.001952980715411723$$",
            "text/plain": [
              "0.001952980715411723"
            ]
          },
          "metadata": {
            "tags": []
          },
          "execution_count": 22
        }
      ]
    }
  ]
}