{
  "nbformat": 4,
  "nbformat_minor": 0,
  "metadata": {
    "colab": {
      "name": "Run_kut4.ipynb",
      "provenance": [],
      "authorship_tag": "ABX9TyNWK5H1ubak9UmZL1+3ZNGf",
      "include_colab_link": true
    },
    "kernelspec": {
      "name": "python3",
      "display_name": "Python 3"
    }
  },
  "cells": [
    {
      "cell_type": "markdown",
      "metadata": {
        "id": "view-in-github",
        "colab_type": "text"
      },
      "source": [
        "<a href=\"https://colab.research.google.com/github/NGUYEN-VAN-HCMUT/Code_Numerical_Method/blob/master/Run_kut4.ipynb\" target=\"_parent\"><img src=\"https://colab.research.google.com/assets/colab-badge.svg\" alt=\"Open In Colab\"/></a>"
      ]
    },
    {
      "cell_type": "markdown",
      "metadata": {
        "id": "Qh1aurRvK-d1"
      },
      "source": [
        "The function integrate in this module implements the Runge-Kutta method of order four. The user must provide integrate with the function F(x,y) that defines the first-order differential equations **y**′ = F(x, **y**)."
      ]
    },
    {
      "cell_type": "code",
      "metadata": {
        "id": "1rop431gJuwa"
      },
      "source": [
        "## module run_kut4\n",
        "# X,Y = integrate(F,x,y,xStop,h).\n",
        "#    4th-order Runge-Kutta method for solving the\n",
        "#    initial value problem {y}’ = {F(x,{y})}, where\n",
        "#    {y} = {y[0],y[1],...y[n-1]}.\n",
        "#    x,y   = initial conditions\n",
        "#    xStop = terminal value of x\n",
        "#    h     = increment of x used in integration\n",
        "#    F     = user-supplied function that returns the\n",
        "#            array F(x,y) = {y’[0],y’[1],...,y’[n-1]}.\n",
        "##\n",
        "import numpy as np\n",
        "def integrate(F,x,y,xStop,h):\n",
        "\n",
        "  def run_kut4(F,x,y,h):\n",
        "      K0 = h*F(x,y)\n",
        "      K1 = h*F(x + h/2.0, y + K0/2.0)\n",
        "      K2 = h*F(x + h/2.0, y + K1/2.0)\n",
        "      K3 = h*F(x + h, y + K2)\n",
        "      return (K0 + 2.0*K1 + 2.0*K2 + K3)/6.0\n",
        "  \n",
        "  X = []\n",
        "  Y = []\n",
        "  X.append(x)\n",
        "  Y.append(y)\n",
        "  while x < xStop:\n",
        "    h = min(h,xStop - x)\n",
        "    y = y + run_kut4(F,x,y,h) \n",
        "    x=x+h\n",
        "    X.append(x)\n",
        "    Y.append(y)\n",
        "  return np.array(X),np.array(Y)"
      ],
      "execution_count": null,
      "outputs": []
    },
    {
      "cell_type": "code",
      "metadata": {
        "id": "zSocff56dJTl"
      },
      "source": [
        "## module printSoln\n",
        "# printSoln(X,Y,freq).\n",
        "#    Prints X and Y returned from the differential\n",
        "#    equation solvers using printout frequency ’freq’.\n",
        "#        freq = n prints every nth step.\n",
        "#        freq = 0 prints initial and final values only.\n",
        "##\n",
        "def printSoln(X,Y,freq):\n",
        "    def printHead(n):\n",
        "        print(\"\\n        x  \",end=\" \")\n",
        "        for i in range (n):\n",
        "            print(\"      y[\",i,\"] \",end=\" \")\n",
        "        print()\n",
        "    def printLine(x,y,n):\n",
        "        print(\"{:13.4e}\".format(x),end=\" \")\n",
        "        for i in range (n):\n",
        "            print(\"{:13.4e}\".format(y[i]),end=\" \")\n",
        "        print()\n",
        "\n",
        "    m = len(Y)\n",
        "    try: n = len(Y[0])\n",
        "    except TypeError: n = 1\n",
        "    if freq == 0: freq = m\n",
        "    printHead(n)\n",
        "    for i in range(0,m,freq):\n",
        "        printLine(X[i],Y[i],n)\n",
        "    if i != m - 1: printLine(X[m - 1],Y[m - 1],n)\n"
      ],
      "execution_count": null,
      "outputs": []
    }
  ]
}