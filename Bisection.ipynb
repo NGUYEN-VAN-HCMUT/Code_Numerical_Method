{
  "nbformat": 4,
  "nbformat_minor": 0,
  "metadata": {
    "colab": {
      "name": "Bisection.ipynb",
      "provenance": [],
      "authorship_tag": "ABX9TyOzZXKu2k4OUiczSmVGb9vR",
      "include_colab_link": true
    },
    "kernelspec": {
      "name": "python3",
      "display_name": "Python 3"
    }
  },
  "cells": [
    {
      "cell_type": "markdown",
      "metadata": {
        "id": "view-in-github",
        "colab_type": "text"
      },
      "source": [
        "<a href=\"https://colab.research.google.com/github/NGUYEN-VAN-HCMUT/Code_Numerical_Method/blob/master/Bisection.ipynb\" target=\"_parent\"><img src=\"https://colab.research.google.com/assets/colab-badge.svg\" alt=\"Open In Colab\"/></a>"
      ]
    },
    {
      "cell_type": "code",
      "metadata": {
        "id": "V4dL4AnlQSPw"
      },
      "source": [
        "## module bisection\n",
        "# root = bisection(f,x1,x2,switch=0,tol=1.0e-9).\n",
        " #   Finds a root of f(x) = 0 by bisection.\n",
        "  #  The root must be bracketed in (x1,x2).\n",
        "  #  Setting switch = 1 returns root = None if\n",
        "  #  f(x) increases upon bisection.\n",
        "###\n",
        "import math\n",
        "#import error\n",
        "from numpy import sign\n",
        "def bisection(f,x1,x2,switch=1,tol=1.0e-9):\n",
        "    f1 = f(x1)\n",
        "    if f1 == 0.0: return x1\n",
        "    f2 = f(x2)\n",
        "    if f2 == 0.0: return x2\n",
        "    if sign(f1) == sign(f2):\n",
        "        quit('Root is not bracketed')\n",
        "    n = int(math.ceil(math.log(abs(x2 - x1)/tol)/math.log(2.0)))\n",
        "    for i in range(n):\n",
        "        x3 = 0.5*(x1 + x2); f3 = f(x3)\n",
        "        if (switch == 1) and (abs(f3) > abs(f1)) \\\n",
        "                         and (abs(f3) > abs(f2)):\n",
        "           return None\n",
        "\n",
        "    if f3 == 0.0: return x3\n",
        "    if sign(f2)!= sign(f3): x1 = x3; f1 = f3\n",
        "    else: x2 = x3; f2 = f3\n",
        "    return (x1 + x2)/2.0\n"
      ],
      "execution_count": 14,
      "outputs": []
    },
    {
      "cell_type": "code",
      "metadata": {
        "colab": {
          "base_uri": "https://localhost:8080/",
          "height": 69
        },
        "id": "FgA9giPwU7iL",
        "outputId": "a9642b78-c4dd-46fe-b8b0-35685f70a04e"
      },
      "source": [
        "\n",
        "def f(x): return x**3 - 10.0*x**2 + 5.0\n",
        "x = bisection(f, 0.0, 1.0, tol = 1.0e-4)\n",
        "print('x =', '{:6.4f}'.format(x))\n",
        "input(\"Press return to exit\")"
      ],
      "execution_count": 15,
      "outputs": [
        {
          "output_type": "stream",
          "text": [
            "x = 0.7500\n",
            "Press return to exity\n"
          ],
          "name": "stdout"
        },
        {
          "output_type": "execute_result",
          "data": {
            "application/vnd.google.colaboratory.intrinsic+json": {
              "type": "string"
            },
            "text/plain": [
              "'y'"
            ]
          },
          "metadata": {
            "tags": []
          },
          "execution_count": 15
        }
      ]
    },
    {
      "cell_type": "markdown",
      "metadata": {
        "id": "y9bhzVONVZi3"
      },
      "source": [
        "Note that we set ε = 0.0001 (tol = 1.0e-4 racy to four significant figures. \n",
        "\n"
      ]
    },
    {
      "cell_type": "code",
      "metadata": {
        "id": "IGyx8KYSVbBC"
      },
      "source": [
        ""
      ],
      "execution_count": null,
      "outputs": []
    }
  ]
}