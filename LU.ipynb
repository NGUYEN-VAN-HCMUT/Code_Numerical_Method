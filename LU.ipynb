{
  "nbformat": 4,
  "nbformat_minor": 0,
  "metadata": {
    "colab": {
      "name": "LU.ipynb",
      "provenance": [],
      "authorship_tag": "ABX9TyNH9eoFJjX0OUnRghFdxKem",
      "include_colab_link": true
    },
    "kernelspec": {
      "name": "python3",
      "display_name": "Python 3"
    }
  },
  "cells": [
    {
      "cell_type": "markdown",
      "metadata": {
        "id": "view-in-github",
        "colab_type": "text"
      },
      "source": [
        "<a href=\"https://colab.research.google.com/github/NGUYEN-VAN-HCMUT/Code_Numerical_Method/blob/master/LU.ipynb\" target=\"_parent\"><img src=\"https://colab.research.google.com/assets/colab-badge.svg\" alt=\"Open In Colab\"/></a>"
      ]
    },
    {
      "cell_type": "code",
      "metadata": {
        "id": "Bqa8ejooWf1r"
      },
      "source": [
        "\n",
        "## module LUdecomp\n",
        "  # a = LUdecomp(a)\n",
        "  # LUdecomposition: [L][U] = [a]\n",
        "  # x = LUsolve(a,b)\n",
        "  # Solution phase: solves [L][U]{x} = {b}\n",
        "###\n",
        "import numpy as np\n",
        "def LUdecomp(a):\n",
        "    n = len(a)\n",
        "    for k in range(0,n-1):\n",
        "        for i in range(k+1,n):\n",
        "           if a[i,k] != 0.0:\n",
        "               lam = a [i,k]/a[k,k]\n",
        "               a[i,k+1:n] = a[i,k+1:n] - lam*a[k,k+1:n]\n",
        "               a[i,k] = lam\n",
        "    return a"
      ],
      "execution_count": 3,
      "outputs": []
    },
    {
      "cell_type": "code",
      "metadata": {
        "id": "ibYnJwiuWzjy"
      },
      "source": [
        "\n",
        "def LUsolve(a,b):\n",
        "    n = len(a)\n",
        "    for k in range(1,n):\n",
        "        b[k] = b[k] - np.dot(a[k,0:k],b[0:k])\n",
        "    b[n-1] = b[n-1]/a[n-1,n-1]\n",
        "    for k in range(n-2,-1,-1):\n",
        "       b[k] = (b[k] - np.dot(a[k,k+1:n],b[k+1:n]))/a[k,k]\n",
        "    return b"
      ],
      "execution_count": 4,
      "outputs": []
    },
    {
      "cell_type": "code",
      "metadata": {
        "id": "YBG5nq16-_Xt"
      },
      "source": [
        "a = np.array([[ 3.0, -1.0,  4.0], \n",
        "              [-2.0,  0.0,  5.0], \n",
        "              [ 7.0,  2.0, -2.0]])"
      ],
      "execution_count": 5,
      "outputs": []
    },
    {
      "cell_type": "code",
      "metadata": {
        "id": "D6AIirfh_QDU"
      },
      "source": [
        "b = np.array([[ 6.0,  3.0,  7.0], \\\n",
        "              [-4.0,  2.0, -5.0]])"
      ],
      "execution_count": 6,
      "outputs": []
    },
    {
      "cell_type": "code",
      "metadata": {
        "colab": {
          "base_uri": "https://localhost:8080/",
          "height": 137
        },
        "id": "sWIqlFMa_Vw2",
        "outputId": "ff159a4e-9395-43c7-cd48-2e99828f0048"
      },
      "source": [
        "a = LUdecomp(a)\n",
        "det = np.prod(np.diagonal(a))\n",
        "print(\"\\nDeterminant =\",det)\n",
        "for i in range(len(b)):\n",
        "   x = LUsolve(a,b[i])\n",
        "   print(\"x\",i+1,\"=\",x)\n",
        "input(\"\\nPress return to exit\")\n",
        "# Decompose [a]\n",
        "# Back-substitute one\n",
        "# constant vector at a time"
      ],
      "execution_count": 7,
      "outputs": [
        {
          "output_type": "stream",
          "text": [
            "\n",
            "Determinant = -77.0\n",
            "x 1 = [1. 1. 1.]\n",
            "x 2 = [-1.00000000e+00  1.00000000e+00  2.30695693e-17]\n",
            "\n",
            "Press return to exity\n"
          ],
          "name": "stdout"
        },
        {
          "output_type": "execute_result",
          "data": {
            "application/vnd.google.colaboratory.intrinsic+json": {
              "type": "string"
            },
            "text/plain": [
              "'y'"
            ]
          },
          "metadata": {
            "tags": []
          },
          "execution_count": 7
        }
      ]
    }
  ]
}