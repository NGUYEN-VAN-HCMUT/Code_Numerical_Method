{
  "nbformat": 4,
  "nbformat_minor": 0,
  "metadata": {
    "colab": {
      "name": "Basic Python_2.ipynb",
      "provenance": [],
      "authorship_tag": "ABX9TyPXWgpvu5nV9dcqHuNy7hSq",
      "include_colab_link": true
    },
    "kernelspec": {
      "name": "python3",
      "display_name": "Python 3"
    }
  },
  "cells": [
    {
      "cell_type": "markdown",
      "metadata": {
        "id": "view-in-github",
        "colab_type": "text"
      },
      "source": [
        "<a href=\"https://colab.research.google.com/github/NGUYEN-VAN-HCMUT/Code_Numerical_Method/blob/master/Basic_Python_2.ipynb\" target=\"_parent\"><img src=\"https://colab.research.google.com/assets/colab-badge.svg\" alt=\"Open In Colab\"/></a>"
      ]
    },
    {
      "cell_type": "markdown",
      "metadata": {
        "id": "Qn_yr5dxNbrN"
      },
      "source": [
        "***Arithmetic Operators***"
      ]
    },
    {
      "cell_type": "markdown",
      "metadata": {
        "id": "CaDLLf5MNfD5"
      },
      "source": [
        "Python supports the usual arithmetic operators\n",
        "\n",
        "---\n",
        "\n",
        "$+$ Addition\n",
        "\n",
        "$−$ Subtraction\n",
        "\n",
        "$∗$ Multiplication\n",
        "\n",
        "$/$ Division\n",
        "\n",
        "$∗∗$ Exponentiation\n",
        "\n",
        "$\\%$ Modular division List item\n",
        "\n",
        "---\n",
        "a += b a = a + b\n",
        "\n",
        "a -= b a = a - b\n",
        "\n",
        "a $*$= b a = $a*b$\n",
        "\n",
        "a /= b a = a/b\n",
        "\n",
        "a $**$= b a = $a**b$\n",
        "\n",
        "a $\\%$= b a = $a\\%b$\n",
        "\n",
        "\n"
      ]
    },
    {
      "cell_type": "code",
      "metadata": {
        "colab": {
          "base_uri": "https://localhost:8080/"
        },
        "id": "Y8cZFfGtM6PW",
        "outputId": "98d715be-02b3-4e67-bac9-870b45eba4b8"
      },
      "source": [
        "s = 'Hello'\n",
        "t = 'to you'\n",
        "a = [1, 2, 3]\n",
        "print(3*s) # Repetition\n",
        "\n",
        "print(3*a) # Repetition\n",
        "print(a + [4, 5])  # Append elements\n",
        "print(s + t) # Concatenation\n"
      ],
      "execution_count": 1,
      "outputs": [
        {
          "output_type": "stream",
          "text": [
            "HelloHelloHello\n",
            "[1, 2, 3, 1, 2, 3, 1, 2, 3]\n",
            "[1, 2, 3, 4, 5]\n",
            "Helloto you\n"
          ],
          "name": "stdout"
        }
      ]
    },
    {
      "cell_type": "markdown",
      "metadata": {
        "id": "lJNToD0iTpIG"
      },
      "source": [
        "print(3 + s) # This addition makes no sense\n",
        "\n",
        "TypeError: unsupported operand type(s) for +: ’int’ and ’str’\n"
      ]
    },
    {
      "cell_type": "markdown",
      "metadata": {
        "id": "mURorHjATyv2"
      },
      "source": [
        "***Comparison Operators***"
      ]
    },
    {
      "cell_type": "markdown",
      "metadata": {
        "id": "3ymExYStT1yQ"
      },
      "source": [
        "$<$ Less than\n",
        "\n",
        "$>$ Greater than\n",
        "\n",
        "$<=$ Less than or equal to\n",
        "\n",
        "$>=$ Greater than or equal to\n",
        "\n",
        "$==$ Equal to\n",
        "\n",
        "$!=$ Not equal to"
      ]
    },
    {
      "cell_type": "code",
      "metadata": {
        "colab": {
          "base_uri": "https://localhost:8080/"
        },
        "id": "dUqZnt3VTiN8",
        "outputId": "7933a778-f325-4df7-cebb-c2c3095f6121"
      },
      "source": [
        "a = 2 # Integer\n",
        "b = 1.99 # Floating point\n",
        "c = '2' # String\n",
        "print(a > b)\n",
        "print(a == c)\n",
        "print((a > b) and (a != c))\n",
        "print((a > b) or (a == b))"
      ],
      "execution_count": 4,
      "outputs": [
        {
          "output_type": "stream",
          "text": [
            "True\n",
            "False\n",
            "True\n",
            "True\n"
          ],
          "name": "stdout"
        }
      ]
    }
  ]
}