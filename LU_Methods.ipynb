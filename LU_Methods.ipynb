{
  "nbformat": 4,
  "nbformat_minor": 0,
  "metadata": {
    "colab": {
      "name": "LU-Methods.ipynb",
      "provenance": [],
      "authorship_tag": "ABX9TyM5EtbuygQvhPopy43N4S5v",
      "include_colab_link": true
    },
    "kernelspec": {
      "name": "python3",
      "display_name": "Python 3"
    }
  },
  "cells": [
    {
      "cell_type": "markdown",
      "metadata": {
        "id": "view-in-github",
        "colab_type": "text"
      },
      "source": [
        "<a href=\"https://colab.research.google.com/github/NGUYEN-VAN-HCMUT/Code_Numerical_Method/blob/master/LU_Methods.ipynb\" target=\"_parent\"><img src=\"https://colab.research.google.com/assets/colab-badge.svg\" alt=\"Open In Colab\"/></a>"
      ]
    },
    {
      "cell_type": "code",
      "metadata": {
        "id": "zoqANuWpuo31",
        "colab_type": "code",
        "colab": {}
      },
      "source": [
        "from scipy import linalg as la\n",
        "from scipy import optimize\n",
        "import sympy\n",
        "sympy.init_printing()\n",
        "import numpy as np\n",
        "import matplotlib.pyplot as plt\n",
        "from __future__ import division\n"
      ],
      "execution_count": 20,
      "outputs": []
    },
    {
      "cell_type": "markdown",
      "metadata": {
        "id": "eInARMltu7r7",
        "colab_type": "text"
      },
      "source": [
        "Conditional Number"
      ]
    },
    {
      "cell_type": "code",
      "metadata": {
        "id": "ogGLGYb4u-3T",
        "colab_type": "code",
        "colab": {
          "base_uri": "https://localhost:8080/",
          "height": 37
        },
        "outputId": "46cac3f4-6d29-4425-c4f6-e46f917edb06"
      },
      "source": [
        "A = sympy.Matrix([[2, 3], [5, 4]])\n",
        "b = sympy.Matrix([4, 3])\n",
        "A.rank()\n"
      ],
      "execution_count": 21,
      "outputs": [
        {
          "output_type": "execute_result",
          "data": {
            "image/png": "[encoded data removed]",
            "text/latex": "$$2$$",
            "text/plain": [
              "2"
            ]
          },
          "metadata": {
            "tags": []
          },
          "execution_count": 21
        }
      ]
    },
    {
      "cell_type": "code",
      "metadata": {
        "id": "EALUu54DvIkD",
        "colab_type": "code",
        "colab": {
          "base_uri": "https://localhost:8080/",
          "height": 54
        },
        "outputId": "1add3496-5d5f-486f-e500-9ccd34f07493"
      },
      "source": [
        "A.condition_number()"
      ],
      "execution_count": 22,
      "outputs": [
        {
          "output_type": "execute_result",
          "data": {
            "image/png": "[encoded data removed]",
            "text/latex": "$$\\frac{\\sqrt{2 \\sqrt{170} + 27}}{\\sqrt{- 2 \\sqrt{170} + 27}}$$",
            "text/plain": [
              "  _____________ \n",
              "╲╱ 2⋅√170 + 27  \n",
              "────────────────\n",
              "  ______________\n",
              "╲╱ -2⋅√170 + 27 "
            ]
          },
          "metadata": {
            "tags": []
          },
          "execution_count": 22
        }
      ]
    },
    {
      "cell_type": "code",
      "metadata": {
        "id": "1txgZpkYvKFB",
        "colab_type": "code",
        "colab": {
          "base_uri": "https://localhost:8080/",
          "height": 37
        },
        "outputId": "df12bf0a-ec15-42de-fdd8-07f4bf882ab3"
      },
      "source": [
        "sympy.N(_)"
      ],
      "execution_count": 23,
      "outputs": [
        {
          "output_type": "execute_result",
          "data": {
            "image/png": "[encoded data removed]",
            "text/latex": "$$7.58240137440151$$",
            "text/plain": [
              "7.58240137440151"
            ]
          },
          "metadata": {
            "tags": []
          },
          "execution_count": 23
        }
      ]
    },
    {
      "cell_type": "code",
      "metadata": {
        "id": "6W9722vwvLai",
        "colab_type": "code",
        "colab": {
          "base_uri": "https://localhost:8080/",
          "height": 37
        },
        "outputId": "8e04173b-a333-4fb7-b30a-c21b3df5589b"
      },
      "source": [
        "A.norm()"
      ],
      "execution_count": 24,
      "outputs": [
        {
          "output_type": "execute_result",
          "data": {
            "image/png": "[encoded data removed]",
            "text/latex": "$$3 \\sqrt{6}$$",
            "text/plain": [
              "3⋅√6"
            ]
          },
          "metadata": {
            "tags": []
          },
          "execution_count": 24
        }
      ]
    },
    {
      "cell_type": "code",
      "metadata": {
        "id": "AbrxG5iKvbIK",
        "colab_type": "code",
        "colab": {}
      },
      "source": [
        "\n",
        "A = np.array([[2, 3], [5, 4]]) \n",
        "b = np.array([4, 3])\n",
        "\n",
        "\n"
      ],
      "execution_count": 25,
      "outputs": []
    },
    {
      "cell_type": "code",
      "metadata": {
        "id": "vsKeQ_2fviMK",
        "colab_type": "code",
        "colab": {
          "base_uri": "https://localhost:8080/",
          "height": 34
        },
        "outputId": "107a826a-1a44-4367-b0cb-172f62f8924b"
      },
      "source": [
        "np.linalg.matrix_rank(A)"
      ],
      "execution_count": 26,
      "outputs": [
        {
          "output_type": "execute_result",
          "data": {
            "text/plain": [
              "2"
            ]
          },
          "metadata": {
            "tags": []
          },
          "execution_count": 26
        }
      ]
    },
    {
      "cell_type": "code",
      "metadata": {
        "id": "WGIPsx8uvjgT",
        "colab_type": "code",
        "colab": {
          "base_uri": "https://localhost:8080/",
          "height": 37
        },
        "outputId": "4525a780-9768-4625-88ca-4ea887663a59"
      },
      "source": [
        "np.linalg.cond(A) "
      ],
      "execution_count": 27,
      "outputs": [
        {
          "output_type": "execute_result",
          "data": {
            "image/png": "[encoded data removed]",
            "text/latex": "$$7.582401374401516$$",
            "text/plain": [
              "7.582401374401516"
            ]
          },
          "metadata": {
            "tags": []
          },
          "execution_count": 27
        }
      ]
    },
    {
      "cell_type": "code",
      "metadata": {
        "id": "CPCVCa0hvkvI",
        "colab_type": "code",
        "colab": {
          "base_uri": "https://localhost:8080/",
          "height": 37
        },
        "outputId": "0c756267-8fc6-4220-d5c2-2950942385d2"
      },
      "source": [
        "np.linalg.norm(A) "
      ],
      "execution_count": 28,
      "outputs": [
        {
          "output_type": "execute_result",
          "data": {
            "image/png": "[encoded data removed]",
            "text/latex": "$$7.3484692283495345$$",
            "text/plain": [
              "7.3484692283495345"
            ]
          },
          "metadata": {
            "tags": []
          },
          "execution_count": 28
        }
      ]
    },
    {
      "cell_type": "markdown",
      "metadata": {
        "id": "qblH3JsYv05w",
        "colab_type": "text"
      },
      "source": [
        "LU Method"
      ]
    },
    {
      "cell_type": "code",
      "metadata": {
        "id": "qjSyzJPNv0ho",
        "colab_type": "code",
        "colab": {
          "base_uri": "https://localhost:8080/",
          "height": 58
        },
        "outputId": "e9ee5981-245d-4ee0-ad97-0f493d1cdd61"
      },
      "source": [
        "A = sympy.Matrix([[2, 3], [5, 4]]) \n",
        "b = sympy.Matrix([4, 3])\n",
        "L, U, _ = A.LUdecomposition()\n",
        "L"
      ],
      "execution_count": 29,
      "outputs": [
        {
          "output_type": "execute_result",
          "data": {
            "text/latex": "$$\\left[\\begin{matrix}1 & 0\\\\\\frac{5}{2} & 1\\end{matrix}\\right]$$",
            "text/plain": [
              "⎡ 1   0⎤\n",
              "⎢      ⎥\n",
              "⎣5/2  1⎦"
            ]
          },
          "metadata": {
            "tags": []
          },
          "execution_count": 29
        }
      ]
    },
    {
      "cell_type": "code",
      "metadata": {
        "id": "eE2FPdLcwBp1",
        "colab_type": "code",
        "colab": {
          "base_uri": "https://localhost:8080/",
          "height": 58
        },
        "outputId": "ad1ca0e3-ec0e-489a-be40-ccbf526886f6"
      },
      "source": [
        "U"
      ],
      "execution_count": 30,
      "outputs": [
        {
          "output_type": "execute_result",
          "data": {
            "text/latex": "$$\\left[\\begin{matrix}2 & 3\\\\0 & - \\frac{7}{2}\\end{matrix}\\right]$$",
            "text/plain": [
              "⎡2   3  ⎤\n",
              "⎢       ⎥\n",
              "⎣0  -7/2⎦"
            ]
          },
          "metadata": {
            "tags": []
          },
          "execution_count": 30
        }
      ]
    },
    {
      "cell_type": "code",
      "metadata": {
        "id": "7p2WfiprwFuE",
        "colab_type": "code",
        "colab": {
          "base_uri": "https://localhost:8080/",
          "height": 58
        },
        "outputId": "28fc6408-e01f-4124-fdd1-b2fd18c12af7"
      },
      "source": [
        "L * U"
      ],
      "execution_count": 31,
      "outputs": [
        {
          "output_type": "execute_result",
          "data": {
            "text/latex": "$$\\left[\\begin{matrix}2 & 3\\\\5 & 4\\end{matrix}\\right]$$",
            "text/plain": [
              "⎡2  3⎤\n",
              "⎢    ⎥\n",
              "⎣5  4⎦"
            ]
          },
          "metadata": {
            "tags": []
          },
          "execution_count": 31
        }
      ]
    },
    {
      "cell_type": "code",
      "metadata": {
        "id": "8nh_DTT-wJUK",
        "colab_type": "code",
        "colab": {
          "base_uri": "https://localhost:8080/",
          "height": 58
        },
        "outputId": "697a2e2c-6dd0-4bfd-dba8-dc6887582367"
      },
      "source": [
        "x = A.solve(b); x # equivalent to A.LUsolve(b)"
      ],
      "execution_count": 32,
      "outputs": [
        {
          "output_type": "execute_result",
          "data": {
            "text/latex": "$$\\left[\\begin{matrix}-1\\\\2\\end{matrix}\\right]$$",
            "text/plain": [
              "⎡-1⎤\n",
              "⎢  ⎥\n",
              "⎣2 ⎦"
            ]
          },
          "metadata": {
            "tags": []
          },
          "execution_count": 32
        }
      ]
    }
  ]
}