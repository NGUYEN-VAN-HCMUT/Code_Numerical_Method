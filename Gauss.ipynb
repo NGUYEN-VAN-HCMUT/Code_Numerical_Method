{
  "nbformat": 4,
  "nbformat_minor": 0,
  "metadata": {
    "colab": {
      "name": "Gauss.ipynb",
      "provenance": [],
      "authorship_tag": "ABX9TyMAzUBL8F/kdwUdFgG4SDJM",
      "include_colab_link": true
    },
    "kernelspec": {
      "name": "python3",
      "display_name": "Python 3"
    }
  },
  "cells": [
    {
      "cell_type": "markdown",
      "metadata": {
        "id": "view-in-github",
        "colab_type": "text"
      },
      "source": [
        "<a href=\"https://colab.research.google.com/github/NGUYEN-VAN-HCMUT/Code_Numerical_Method/blob/master/Gauss.ipynb\" target=\"_parent\"><img src=\"https://colab.research.google.com/assets/colab-badge.svg\" alt=\"Open In Colab\"/></a>"
      ]
    },
    {
      "cell_type": "code",
      "metadata": {
        "id": "FEG9GmcfLSQs"
      },
      "source": [
        "\n",
        "## module gaussElimin\n",
        "   # x = gaussElimin(a,b).\n",
        "   # Solves [a]{b} = {x} by Gauss elimination.\n",
        "\n",
        "import numpy as np\n",
        "def gaussElimin(a,b):\n",
        "    n = len(b)\n",
        "  # Elimination Phase\n",
        "    for k in range(0,n-1):\n",
        "        for i in range(k+1,n):\n",
        "           if a[i,k] != 0.0:\n",
        "               lam = a [i,k]/a[k,k]\n",
        "               a[i,k+1:n] = a[i,k+1:n] - lam*a[k,k+1:n]\n",
        "               b[i] = b[i] - lam*b[k]\n",
        "  # Back substitution\n",
        "    for k in range(n-1,-1,-1):\n",
        "        b[k] = (b[k] - np.dot(a[k,k+1:n],b[k+1:n]))/a[k,k]\n",
        "    return b"
      ],
      "execution_count": null,
      "outputs": []
    },
    {
      "cell_type": "code",
      "metadata": {
        "colab": {
          "base_uri": "https://localhost:8080/"
        },
        "id": "ZbhvJCVSRWQH",
        "outputId": "31d4462e-9f30-4aa8-c529-911ccb90f599"
      },
      "source": [
        "from numpy import array\n",
        "a = array([[6, -4, 1],[-4, 6, -4], [1, -4, 6]])\n",
        "b = array([[-14, 22],[36, -18], [6, 7]])\n",
        "a\n",
        "b"
      ],
      "execution_count": null,
      "outputs": [
        {
          "output_type": "execute_result",
          "data": {
            "text/plain": [
              "array([[-14,  22],\n",
              "       [ 36, -18],\n",
              "       [  6,   7]])"
            ]
          },
          "metadata": {
            "tags": []
          },
          "execution_count": 17
        }
      ]
    },
    {
      "cell_type": "code",
      "metadata": {
        "colab": {
          "base_uri": "https://localhost:8080/",
          "height": 222
        },
        "id": "mDAVeKdfSvcQ",
        "outputId": "17c78af8-34d5-40cb-8d53-f4ba42325ee3"
      },
      "source": [
        "import numpy as np\n",
        "#from gaussElimin import *\n",
        "def vandermode(v):\n",
        "    n = len(v)\n",
        "    a = np.zeros((n,n))\n",
        "    for j in range(n):\n",
        "        a[:,j] = v**(n-j-1)\n",
        "    return a\n",
        "v = np.array([1.0, 1.2, 1.4, 1.6, 1.8, 2.0])\n",
        "b = np.array([0.0, 1.0, 0.0, 1.0, 0.0, 1.0])\n",
        "a = vandermode(v)\n",
        "aOrig = a.copy()    # Save original matrix\n",
        "bOrig = b.copy()    # and the constant vector\n",
        "x = gaussElimin(a,b)\n",
        "det = np.prod(np.diagonal(a))\n",
        "print('x =\\n',x)\n",
        "print('\\ndet =',det)\n",
        "print('\\nCheck result: [a]{x} - b =\\n',np.dot(aOrig,x) - bOrig)\n",
        "input(\"\\nPress return to exit\")"
      ],
      "execution_count": 19,
      "outputs": [
        {
          "output_type": "stream",
          "text": [
            "x =\n",
            " [   416.66666667  -3125.00000004   9250.00000012 -13500.00000017\n",
            "   9709.33333345  -2751.00000003]\n",
            "\n",
            "det = -1.1324620799859046e-06\n",
            "\n",
            "Check result: [a]{x} - b =\n",
            " [ 0.00000000e+00  3.63797881e-12  7.27595761e-12  7.27595761e-12\n",
            " -5.45696821e-12  6.18456397e-11]\n",
            "\n",
            "Press return to exity\n"
          ],
          "name": "stdout"
        },
        {
          "output_type": "execute_result",
          "data": {
            "application/vnd.google.colaboratory.intrinsic+json": {
              "type": "string"
            },
            "text/plain": [
              "'y'"
            ]
          },
          "metadata": {
            "tags": []
          },
          "execution_count": 19
        }
      ]
    }
  ]
}