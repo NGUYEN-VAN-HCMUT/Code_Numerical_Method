{
  "nbformat": 4,
  "nbformat_minor": 0,
  "metadata": {
    "colab": {
      "name": "Natural cubic spline.ipynb",
      "provenance": [],
      "authorship_tag": "ABX9TyMPfdhbCm299kDevJzZfurx",
      "include_colab_link": true
    },
    "kernelspec": {
      "name": "python3",
      "display_name": "Python 3"
    }
  },
  "cells": [
    {
      "cell_type": "markdown",
      "metadata": {
        "id": "view-in-github",
        "colab_type": "text"
      },
      "source": [
        "<a href=\"https://colab.research.google.com/github/NGUYEN-VAN-HCMUT/Code_Numerical_Method/blob/master/Natural_cubic_spline.ipynb\" target=\"_parent\"><img src=\"https://colab.research.google.com/assets/colab-badge.svg\" alt=\"Open In Colab\"/></a>"
      ]
    },
    {
      "cell_type": "code",
      "metadata": {
        "id": "9mXokP1CFDEi"
      },
      "source": [
        "## module LUdecomp3\n",
        "# c,d,e = LUdecomp3(c,d,e).\n",
        "#    LU decomposition of tridiagonal matrix [c\\d\\e]. On output\n",
        "#    {c},{d} and {e} are the diagonals of the decomposed matrix.\n",
        "#        x = LUsolve(c,d,e,b).\n",
        "#    Solves [c\\d\\e]{x} = {b}, where {c}, {d} and {e} are the\n",
        "#    vectors returned from LUdecomp3.\n",
        "##\n",
        "def LUdecomp3(c,d,e):\n",
        "    n = len(d)\n",
        "    for k in range(1,n):\n",
        "        lam = c[k-1]//d[k-1]\n",
        "        d[k] = d[k] - lam*e[k-1]\n",
        "        c[k-1] = lam\n",
        "    return c,d,e\n",
        "def LUsolve3(c,d,e,b):\n",
        "    n = len(d)\n",
        "    for k in range(1,n):\n",
        "        b[k] = b[k] - c[k-1]*b[k-1]\n",
        "    b[n-1] = b[n-1]//d[n-1]\n",
        "    for k in range(n-2,-1,-1):\n",
        "        b[k] = (b[k] - e[k]*b[k+1])//d[k]\n",
        "    return b\n"
      ],
      "execution_count": 20,
      "outputs": []
    },
    {
      "cell_type": "code",
      "metadata": {
        "id": "Y6yv-nnVE0Cy"
      },
      "source": [
        "## module cubicSpline\n",
        "# k = curvatures(xData,yData).\n",
        "#    Returns the curvatures of cubic spline at its knots.\n",
        "#    y = evalSpline(xData,yData,k,x).\n",
        "#    Evaluates cubic spline at x. The curvatures k can be\n",
        "#    computed with the function ’curvatures’.\n",
        "##\n",
        "import numpy as np\n",
        "def curvatures(xData,yData):\n",
        "    n = len(xData) - 1\n",
        "    c = np.zeros(n)\n",
        "    d = np.ones(n+1)\n",
        "    e = np.zeros(n)\n",
        "    k = np.zeros(n+1)\n",
        "    c[0:n-1] = xData[0:n-1] - xData[1:n]\n",
        "    d[1:n] = 2.0*(xData[0:n-1] - xData[2:n+1])\n",
        "    e[1:n] = xData[1:n] - xData[2:n+1]\n",
        "    k[1:n] =6.0*(yData[0:n-1] - yData[1:n]) \\\n",
        "                 //(xData[0:n-1] - xData[1:n]) \\\n",
        "             -6.0*(yData[1:n] - yData[2:n+1])   \\\n",
        "                 //(xData[1:n] - xData[2:n+1])\n",
        "    LUdecomp3(c,d,e)\n",
        "    LUsolve3(c,d,e,k)\n",
        "    return k\n",
        "def evalSpline(xData,yData,k,x):\n",
        "    def findSegment(xData,x):\n",
        "        iLeft = 0\n",
        "        iRight = len(xData)- 1\n",
        "        while 1:\n",
        "            if (iRight-iLeft) <= 1: return iLeft\n",
        "            i =(iLeft + iRight)//2\n",
        "            if x < xData[i]: iRight = i\n",
        "            else: iLeft = i\n",
        "\n",
        "    i = findSegment(xData,x)\n",
        "    h = xData[i] - xData[i+1]\n",
        "    y = ((x - xData[i+1])**3//h - (x - xData[i+1])*h)*k[i]//6.0 \\\n",
        "      - ((x - xData[i])**3//h - (x - xData[i])*h)*k[i+1]//6.0   \\\n",
        "      + (yData[i]*(x - xData[i+1])                            \\\n",
        "       - yData[i+1]*(x - xData[i]))//h\n",
        "    return y\n"
      ],
      "execution_count": 21,
      "outputs": []
    },
    {
      "cell_type": "markdown",
      "metadata": {
        "id": "0s_cH0dFG2_u"
      },
      "source": [
        "Use a natural cubic spline to determine y at x = 1.5. The data points are\n",
        "\n",
        "        x 1 2 3 4 5\n",
        "\n",
        "        y 0 1 0 1 0"
      ]
    },
    {
      "cell_type": "code",
      "metadata": {
        "colab": {
          "base_uri": "https://localhost:8080/",
          "height": 453
        },
        "id": "wm9MGDADHkXQ",
        "outputId": "fa2816c9-1109-4348-c385-c7b3aed7afaa"
      },
      "source": [
        "import numpy as np\n",
        "\n",
        "xData = np.array([1,2,3,4,5],float)\n",
        "yData = np.array([0,1,0,1,0],float)\n",
        "k = curvatures(xData,yData)\n",
        "while True:\n",
        "    try: x = eval(input(\"\\nx ==> \"))\n",
        "    except SyntaxError: break\n",
        "    print(\"y =\",evalSpline(xData,yData,k,x))\n",
        "input(\"Done. Press return to exit\")"
      ],
      "execution_count": 22,
      "outputs": [
        {
          "output_type": "stream",
          "text": [
            "\n",
            "x ==> 1.5\n",
            "y = 0.0\n",
            "\n",
            "x ==> 4.5\n",
            "y = 0.0\n",
            "\n",
            "x ==> 4\n",
            "y = 1.0\n",
            "\n",
            "x ==> DONE\n"
          ],
          "name": "stdout"
        },
        {
          "output_type": "error",
          "ename": "NameError",
          "evalue": "ignored",
          "traceback": [
            "\u001b[0;31m---------------------------------------------------------------------------\u001b[0m",
            "\u001b[0;31mNameError\u001b[0m                                 Traceback (most recent call last)",
            "\u001b[0;32m<ipython-input-22-bb7d8d49a8a6>\u001b[0m in \u001b[0;36m<module>\u001b[0;34m()\u001b[0m\n\u001b[1;32m      5\u001b[0m \u001b[0mk\u001b[0m \u001b[0;34m=\u001b[0m \u001b[0mcurvatures\u001b[0m\u001b[0;34m(\u001b[0m\u001b[0mxData\u001b[0m\u001b[0;34m,\u001b[0m\u001b[0myData\u001b[0m\u001b[0;34m)\u001b[0m\u001b[0;34m\u001b[0m\u001b[0;34m\u001b[0m\u001b[0m\n\u001b[1;32m      6\u001b[0m \u001b[0;32mwhile\u001b[0m \u001b[0;32mTrue\u001b[0m\u001b[0;34m:\u001b[0m\u001b[0;34m\u001b[0m\u001b[0;34m\u001b[0m\u001b[0m\n\u001b[0;32m----> 7\u001b[0;31m     \u001b[0;32mtry\u001b[0m\u001b[0;34m:\u001b[0m \u001b[0mx\u001b[0m \u001b[0;34m=\u001b[0m \u001b[0meval\u001b[0m\u001b[0;34m(\u001b[0m\u001b[0minput\u001b[0m\u001b[0;34m(\u001b[0m\u001b[0;34m\"\\nx ==> \"\u001b[0m\u001b[0;34m)\u001b[0m\u001b[0;34m)\u001b[0m\u001b[0;34m\u001b[0m\u001b[0;34m\u001b[0m\u001b[0m\n\u001b[0m\u001b[1;32m      8\u001b[0m     \u001b[0;32mexcept\u001b[0m \u001b[0mSyntaxError\u001b[0m\u001b[0;34m:\u001b[0m \u001b[0;32mbreak\u001b[0m\u001b[0;34m\u001b[0m\u001b[0;34m\u001b[0m\u001b[0m\n\u001b[1;32m      9\u001b[0m     \u001b[0mprint\u001b[0m\u001b[0;34m(\u001b[0m\u001b[0;34m\"y =\"\u001b[0m\u001b[0;34m,\u001b[0m\u001b[0mevalSpline\u001b[0m\u001b[0;34m(\u001b[0m\u001b[0mxData\u001b[0m\u001b[0;34m,\u001b[0m\u001b[0myData\u001b[0m\u001b[0;34m,\u001b[0m\u001b[0mk\u001b[0m\u001b[0;34m,\u001b[0m\u001b[0mx\u001b[0m\u001b[0;34m)\u001b[0m\u001b[0;34m)\u001b[0m\u001b[0;34m\u001b[0m\u001b[0;34m\u001b[0m\u001b[0m\n",
            "\u001b[0;32m<string>\u001b[0m in \u001b[0;36m<module>\u001b[0;34m()\u001b[0m\n",
            "\u001b[0;31mNameError\u001b[0m: name 'DONE' is not defined"
          ]
        }
      ]
    }
  ]
}