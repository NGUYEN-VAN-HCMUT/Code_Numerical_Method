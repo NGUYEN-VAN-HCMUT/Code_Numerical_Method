{
  "nbformat": 4,
  "nbformat_minor": 0,
  "metadata": {
    "colab": {
      "name": "NewtonRaphson.ipynb",
      "provenance": [],
      "authorship_tag": "ABX9TyMiHXCss+tJA+vSKdfHFyl6",
      "include_colab_link": true
    },
    "kernelspec": {
      "name": "python3",
      "display_name": "Python 3"
    }
  },
  "cells": [
    {
      "cell_type": "markdown",
      "metadata": {
        "id": "view-in-github",
        "colab_type": "text"
      },
      "source": [
        "<a href=\"https://colab.research.google.com/github/NGUYEN-VAN-HCMUT/Code_Numerical_Method/blob/master/NewtonRaphson.ipynb\" target=\"_parent\"><img src=\"https://colab.research.google.com/assets/colab-badge.svg\" alt=\"Open In Colab\"/></a>"
      ]
    },
    {
      "cell_type": "code",
      "metadata": {
        "id": "qG1Hy0ONd3xI"
      },
      "source": [
        "\n",
        "## module newtonRaphson\n",
        "# root = newtonRaphson(f,df,a,b,tol=1.0e-9).\n",
        "  #   Finds a root of f(x) = 0 by combining the Newton-Raphson\n",
        "  #  method with bisection. The root must be bracketed in (a,b).\n",
        "  # Calls user-supplied functions f(x) and its derivative df(x).\n",
        "#\n",
        "def newtonRaphson(f,df,a,b,tol=1.0e-9):\n",
        "    \n",
        "    from numpy import sign\n",
        "    fa = f(a)\n",
        "    if fa == 0.0: return a\n",
        "    fb = f(b)\n",
        "    if fb == 0.0: return b\n",
        "    if sign(fa) == sign(fb): quit('Root is not bracketed')\n",
        "    x = 0.5*(a + b)\n",
        "    for i in range(30):\n",
        "        fx = f(x)\n",
        "        if fx == 0.0: return x\n",
        "      # Tighten the brackets on the root\n",
        "        if sign(fa) != sign(fx): b = x\n",
        "        else: a = x\n",
        "\n",
        "        # Try a Newton-Raphson step\n",
        "        dfx = df(x)\n",
        "        # If division by zero, push x out of bounds\n",
        "        try: dx = -fx/dfx\n",
        "        except ZeroDivisionError: dx = b - a\n",
        "        x = x + dx\n",
        "        # If the result is outside the brackets, use bisection\n",
        "        if (b - x)*(x - a) < 0.0:\n",
        "            dx = 0.5*(b - a)\n",
        "            x = a + dx\n",
        "      # Check for convergence\n",
        "        if abs(dx) < tol*max(abs(b),1.0): return x\n",
        "    print('Too many iterations in Newton-Raphson')\n"
      ],
      "execution_count": 1,
      "outputs": []
    },
    {
      "cell_type": "code",
      "metadata": {
        "colab": {
          "base_uri": "https://localhost:8080/"
        },
        "id": "LfXU7xX70oHP",
        "outputId": "f2d17b06-e7b3-48cb-fcf6-a797c4f016b2"
      },
      "source": [
        "def f(x): return x**4 - 6.4*x**3 + 6.45*x**2 + 20.538*x - 31.752\n",
        "def df(x): return 4.0*x**3 - 19.2*x**2 + 12.9*x + 20.538\n",
        "def newtonRaphson(x,tol=1.0e-9):\n",
        "    for i in range(30):\n",
        "        dx = -f(x)/df(x)\n",
        "        x = x + dx\n",
        "        if abs(dx) < tol: return x,i\n",
        "    print ('Too many iterations\\n')\n",
        "root,numIter = newtonRaphson(2.0)\n",
        "print ('Root =',root)\n",
        "print ('Number of iterations =',numIter)\n",
        "\n"
      ],
      "execution_count": 5,
      "outputs": [
        {
          "output_type": "stream",
          "text": [
            "Root = 2.0999999786199406\n",
            "Number of iterations = 22\n"
          ],
          "name": "stdout"
        }
      ]
    }
  ]
}